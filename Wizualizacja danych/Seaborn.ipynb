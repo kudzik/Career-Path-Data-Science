{
 "cells": [
  {
   "cell_type": "markdown",
   "metadata": {},
   "source": [
    "# Seaborn\n",
    "\n",
    "Seaborn to biblioteka do wizualizacji danych, zbudowana na bazie Matplotlib, która oferuje wyższy poziom abstrakcji i estetyczne, atrakcyjne domyślne ustawienia. Jest szczególnie użyteczna w przypadku wizualizacji statystycznych i pracy z danymi w Pandas.\n",
    "\n",
    "## Opis\n",
    "Seaborn upraszcza tworzenie wykresów, dzięki czemu jest idealna dla osób, które chcą szybko i efektywnie wizualizować dane. Biblioteka dostarcza również narzędzia do kompleksowych analiz statystycznych, takich jak regresja liniowa, testy statystyczne i inne.\n",
    "\n",
    "## Zalety\n",
    "- Łatwość użycia: Prostsze i bardziej intuicyjne funkcje w porównaniu do Matplotlib.\n",
    "- Estetyka: Domyślne wykresy są bardziej estetyczne i nowoczesne.\n",
    "- Integracja z Pandas: Doskonała integracja z dataframe'ami Pandas.\n",
    "- Zaawansowane wykresy statystyczne: Narzędzia do tworzenia skomplikowanych analiz statystycznych są łatwo dostępne.\n",
    "\n",
    "Wady\n",
    "- Mniejsza elastyczność: Mniej elastyczna niż Matplotlib w przypadku tworzenia bardzo specyficznych, niestandardowych wykresów.\n",
    "- Zależność od Matplotlib: Wciąż wymaga zrozumienia Matplotlib, ponieważ jest na nim zbudowana."
   ]
  },
  {
   "cell_type": "code",
   "execution_count": null,
   "metadata": {},
   "outputs": [],
   "source": []
  }
 ],
 "metadata": {
  "kernelspec": {
   "display_name": ".venv",
   "language": "python",
   "name": "python3"
  },
  "language_info": {
   "name": "python",
   "version": "3.12.4"
  }
 },
 "nbformat": 4,
 "nbformat_minor": 2
}
