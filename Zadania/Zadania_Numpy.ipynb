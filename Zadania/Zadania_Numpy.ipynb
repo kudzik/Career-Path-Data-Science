{
 "cells": [
  {
   "cell_type": "code",
   "execution_count": 3,
   "metadata": {},
   "outputs": [],
   "source": [
    "import numpy as np"
   ]
  },
  {
   "cell_type": "markdown",
   "metadata": {},
   "source": [
    "## Tablice 1D"
   ]
  },
  {
   "cell_type": "code",
   "execution_count": 4,
   "metadata": {},
   "outputs": [
    {
     "name": "stdout",
     "output_type": "stream",
     "text": [
      "6\n"
     ]
    }
   ],
   "source": [
    "# Spróbuj stworzyć kilka tablic NumPy o różnych kształtach i użyj funkcji `size`, aby sprawdzić, ile elementów zawiera każda z nich.\n",
    "\n",
    "tablica = np.array([[1, 2, 3], [4, 5, 6]])\n",
    "print(tablica.size)"
   ]
  },
  {
   "cell_type": "code",
   "execution_count": 5,
   "metadata": {},
   "outputs": [
    {
     "name": "stdout",
     "output_type": "stream",
     "text": [
      "float64\n"
     ]
    },
    {
     "data": {
      "text/plain": [
       "array([1., 2., 3., 4., 5.])"
      ]
     },
     "execution_count": 5,
     "metadata": {},
     "output_type": "execute_result"
    }
   ],
   "source": [
    "# Tworzenie tablicy z podaniem typu danych\n",
    "\n",
    "arr = np.array([1, 2, 3, 4, 5], dtype=\"float\")\n",
    "print(arr.dtype)\n",
    "arr"
   ]
  },
  {
   "cell_type": "code",
   "execution_count": 6,
   "metadata": {},
   "outputs": [
    {
     "name": "stdout",
     "output_type": "stream",
     "text": [
      "[[1 2 3]\n",
      " [4 5 6]]\n"
     ]
    }
   ],
   "source": [
    "# Spróbuj stworzyć kilka tablic NumPy o różnych kształtach i użyj funkcji `shape`, aby sprawdzić ich wymiary.\n",
    "# Następnie spróbuj zmienić kształt jednej z tablic za pomocą atrybutu `shape`.\n",
    "\n",
    "# Tworzenie przykładowej tablicy 1D\n",
    "arr = np.array([1, 2, 3, 4, 5, 6])\n",
    "\n",
    "# Zmiana kształtu na 2x3 bez tworzenia nowej tablicy\n",
    "arr.shape = (2, 3)\n",
    "\n",
    "print(arr)  # [[1 2 3] [4 5 6]]"
   ]
  },
  {
   "cell_type": "code",
   "execution_count": 4,
   "metadata": {},
   "outputs": [
    {
     "name": "stdout",
     "output_type": "stream",
     "text": [
      "int64\n",
      "float64\n"
     ]
    }
   ],
   "source": [
    "# Spróbuj stworzyć kilka tablic NumPy z różnymi typami danych i użyj atrybutu `dtype`, aby sprawdzić, jaki typ danych przechowuje każda z nich.\n",
    "# Następnie spróbuj zmienić typ danych jednej z tablic za pomocą metody `astype()`.\n",
    "\n",
    "arr = np.array([1, 2, 3, 4, 5])\n",
    "print(arr.dtype)\n",
    "\n",
    "# Zmiana typu\n",
    "arr = arr.astype(float)\n",
    "print(arr.dtype)"
   ]
  },
  {
   "cell_type": "code",
   "execution_count": 32,
   "metadata": {},
   "outputs": [
    {
     "name": "stdout",
     "output_type": "stream",
     "text": [
      "[ 1  2  3  4  5  6  7  8  9 10]\n",
      "Pierwszy element: 1\n",
      "Ostatni element: 10\n",
      "Podtablica: [3 4 5 6 7]\n"
     ]
    }
   ],
   "source": [
    "# Stwórz tablicę NumPy o 10 elementach (liczby od 1 do 10).\n",
    "\n",
    "arr = np.arange(1, 11)\n",
    "print(arr)\n",
    "\n",
    "# Wyciągnij z tablicy pierwszy element oraz ostatni element.\n",
    "first_element = arr[0]\n",
    "last_element = arr[-1]\n",
    "\n",
    "print(\"Pierwszy element:\", first_element)\n",
    "print(\"Ostatni element:\", last_element)\n",
    "\n",
    "# Wyciągnij podtablicę zawierającą elementy od 3 do 7 (z indeksami).\n",
    "\n",
    "subarray = arr[2:7]\n",
    "print(\"Podtablica:\", subarray)"
   ]
  },
  {
   "cell_type": "markdown",
   "metadata": {},
   "source": [
    "## Tablica 2D"
   ]
  },
  {
   "cell_type": "code",
   "execution_count": 42,
   "metadata": {},
   "outputs": [
    {
     "name": "stdout",
     "output_type": "stream",
     "text": [
      "9\n",
      "Drugi wiersz [4 5 6]\n",
      "Druga kolumna [2 5 8]\n"
     ]
    }
   ],
   "source": [
    "# Tworzenie tablicy 2D i operacje na wierszach i kolumnach\n",
    "# Stwórz tablicę 2D o wymiarach 3x3 z liczbami od 1 do 9.\n",
    "\n",
    "arr2D = np.array([[1, 2, 3], [4, 5, 6], [7, 8, 9]])\n",
    "print(np.size(arr2D))\n",
    "\n",
    "# Wyciągnij drugi wiersz tej tablicy.\n",
    "\n",
    "seccond_row = arr2D[1, :]\n",
    "print(\"Drugi wiersz\", seccond_row)\n",
    "# Pierwsza liczba 1 oznacza, że chcemy wybrać drugi wiersz tablicy (pamiętaj, że indeksowanie w Pythonie zaczyna się od 0, więc 0 to pierwszy wiersz, 1 to drugi itd.).\n",
    "# Dwukropek : oznacza, że chcemy wybrać wszystkie elementy z tego wiersza (czyli wszystkie kolumny).\n",
    "\n",
    "\n",
    "# Wyciągnij drugą kolumnę tej tablicy.\n",
    "print(\"Druga kolumna\", arr2D[:, 1])\n",
    "\n",
    "# Zmień element w pierwszym wierszu, pierwszej kolumnie na wartość 99.\n",
    "# Podpowiedź: Indeksuj tablicę, np. arr[1, :] wyciągnie drugi wiersz, a arr[:, 1] wyciągnie drugą kolumnę."
   ]
  },
  {
   "cell_type": "code",
   "execution_count": 36,
   "metadata": {},
   "outputs": [
    {
     "name": "stdout",
     "output_type": "stream",
     "text": [
      "[[1 2 3]\n",
      " [4 5 6]]\n"
     ]
    }
   ],
   "source": [
    "arr2 = np.array([[1, 2, 3], [4, 5, 6]])\n",
    "print(arr2)"
   ]
  },
  {
   "cell_type": "markdown",
   "metadata": {},
   "source": [
    "## Macierze 3D"
   ]
  },
  {
   "cell_type": "code",
   "execution_count": 43,
   "metadata": {},
   "outputs": [
    {
     "name": "stdout",
     "output_type": "stream",
     "text": [
      "Pierwsza szafka: [[1 2 3]\n",
      " [4 5 6]\n",
      " [7 8 9]]\n",
      "Tablica po zmianie: [[[ 1  2  3]\n",
      "  [ 4  5  6]\n",
      "  [ 7  8  9]]\n",
      "\n",
      " [[10 11 12]\n",
      "  [13 14 42]\n",
      "  [16 17 18]]]\n",
      "Trzecia kolumna: [[ 3  6  9]\n",
      " [12 42 18]]\n"
     ]
    }
   ],
   "source": [
    "# Stwórz tablicę 3D o wymiarach 2x3x3 z liczbami od 1 do 18.\n",
    "# Wyciągnij pierwszą \"szafkę\" (pierwszy blok o wymiarach 3x3).\n",
    "# Zmień wartość w drugiej \"szafce\", drugim wierszu, trzeciej kolumnie na wartość 42.\n",
    "# Wyciągnij wszystkie elementy z trzeciej kolumny we wszystkich szafkach.\n",
    "# Podpowiedź: Pamiętaj o indeksowaniu w trzech wymiarach np. arr[1, :, :] dla drugiej \"szafki\".\n",
    "\n",
    "\n",
    "import numpy as np\n",
    "\n",
    "# 1. Tworzenie tablicy 3D\n",
    "arr_3d = np.arange(1, 19).reshape(2, 3, 3)\n",
    "\n",
    "# 2. Wyciąganie pierwszej szafki\n",
    "first_shelf = arr_3d[0, :, :]\n",
    "\n",
    "# 3. Zmiana elementu w drugiej szafce, drugim wierszu, trzeciej kolumnie\n",
    "arr_3d[1, 1, 2] = 42\n",
    "\n",
    "# 4. Wyciąganie wszystkich elementów z trzeciej kolumny we wszystkich szafkach\n",
    "third_column = arr_3d[:, :, 2]\n",
    "\n",
    "print(\"Pierwsza szafka:\", first_shelf)\n",
    "print(\"Tablica po zmianie:\", arr_3d)\n",
    "print(\"Trzecia kolumna:\", third_column)"
   ]
  },
  {
   "cell_type": "code",
   "execution_count": 15,
   "metadata": {},
   "outputs": [
    {
     "name": "stdout",
     "output_type": "stream",
     "text": [
      "[-5.  -2.5  0.   2.5  5. ]\n"
     ]
    }
   ],
   "source": [
    "#  Stworzyć tablicę 3x4 wypełnioną losowymi liczbami całkowitymi z zakresu od 1 do 10.\n",
    "\n",
    "arr_3x4 = np.random.randint(1, 11, size=(3, 4))\n",
    "arr_3x4\n",
    "\n",
    "\n",
    "# * Stworzyć tablicę 5x5 wypełnioną wartością logiczną `False`.\n",
    "\n",
    "arr_5x5 = np.full((5, 5), False)\n",
    "arr_5x5\n",
    "\n",
    "# * Stworzyć tablicę jednowymiarową zawierającą 10 liczb równomiernie rozmieszczonych między -5 a 5.\n",
    "\n",
    "# 5 liczb równomiernie rozmieszczonych od -5 do 5 (włącznie)\n",
    "tablica_liniowa = np.linspace(-5, 5, 5)\n",
    "print(tablica_liniowa)"
   ]
  },
  {
   "cell_type": "code",
   "execution_count": 8,
   "metadata": {},
   "outputs": [
    {
     "data": {
      "text/plain": [
       "array([0. , 0.5, 1. , 1.5, 2. , 2.5, 3. , 3.5, 4. , 4.5, 5. , 5.5, 6. ,\n",
       "       6.5, 7. , 7.5, 8. , 8.5, 9. , 9.5])"
      ]
     },
     "execution_count": 8,
     "metadata": {},
     "output_type": "execute_result"
    }
   ],
   "source": [
    "arr = np.arange(start=0, stop=10, step=0.5)\n",
    "arr"
   ]
  },
  {
   "cell_type": "markdown",
   "metadata": {},
   "source": [
    "## Podstawowe operacje na tablicach"
   ]
  },
  {
   "cell_type": "code",
   "execution_count": 2,
   "metadata": {},
   "outputs": [
    {
     "name": "stdout",
     "output_type": "stream",
     "text": [
      "[3. 1. 4. 2.]\n",
      "[ 3. -1.  3.  2.]\n",
      "Dodawanie elementów [6. 0. 7. 4.]\n",
      "Dodawanie elementów metoda [6. 0. 7. 4.]\n",
      "Odejmowanie elementów [0. 2. 1. 0.]\n",
      "Mnożenie elementów [ 9. -1. 12.  4.]\n",
      "Dzielenie elementów [ 1.         -1.          1.33333333  1.        ]\n",
      "Dodawanie stałej [7. 5. 8. 6.]\n"
     ]
    }
   ],
   "source": [
    "import numpy as np\n",
    "\n",
    "A = np.array([3, 1, 4, 2], dtype=np.float64)\n",
    "B = np.array([3, -1, 3, 2], dtype=\"float\")\n",
    "\n",
    "print(A)\n",
    "print(B)\n",
    "\n",
    "# Dodawanie, odejmowanie tablic (rozmiar musi się zgadzac)\n",
    "print(\"Dodawanie elementów\", A + B)\n",
    "print(\"Dodawanie elementów metoda\", np.add(A, B))\n",
    "print(\"Odejmowanie elementów\", A - B)\n",
    "print(\"Odejmowanie elementów metoda\", np.subtract(A, B))\n",
    "print(\"Mnożenie elementów\", A * B)\n",
    "print(\"Mnożenie elementów metoda\", np.multiply(A, B))\n",
    "print(\"Dzielenie elementów metoda\", np.subtract(A, B))\n",
    "\n",
    "# Dodawanie stałej do kazdego elementu\n",
    "print(\"Dodawanie stałej\", A + 4)"
   ]
  },
  {
   "cell_type": "code",
   "execution_count": 3,
   "metadata": {},
   "outputs": [
    {
     "name": "stdout",
     "output_type": "stream",
     "text": [
      "[3 4 5 6 7 8]\n"
     ]
    }
   ],
   "source": [
    "array3 = np.arange(3, 9)\n",
    "print(array3)"
   ]
  },
  {
   "cell_type": "code",
   "execution_count": 7,
   "metadata": {},
   "outputs": [
    {
     "name": "stdout",
     "output_type": "stream",
     "text": [
      "9.000000000000002\n"
     ]
    }
   ],
   "source": [
    "A = np.array([[2, 1, 0], [-1, 2, 3], [0, 1, 3]], dtype=float)\n",
    "print(np.linalg.det(A))\n"
   ]
  },
  {
   "cell_type": "code",
   "execution_count": 15,
   "metadata": {},
   "outputs": [
    {
     "name": "stdout",
     "output_type": "stream",
     "text": [
      "Rozwiązanie: x = 3.0\n",
      "sss: [[3.]]\n",
      "2x + 3 = 7 x wynosi: [[2.]] \n",
      "5x - 4 = 11 x wynosi: [[3.]] \n"
     ]
    }
   ],
   "source": [
    "import numpy as np\n",
    "\n",
    "# 5x - 4 = 11\n",
    "\n",
    "# Definiujemy współczynniki równania\n",
    "a = np.array([[5]])  # Macierz współczynników\n",
    "b = np.array([15])  # Wektor wyników (11 + 4)\n",
    "\n",
    "# Rozwiązujemy równanie\n",
    "x = np.linalg.solve(a, b)\n",
    "\n",
    "print(f\"Rozwiązanie: x = {x[0]}\")\n",
    "\n",
    "print(\"sss:\", np.linalg.solve([[5]], [[15]]))\n",
    "\n",
    "# ( 2x + 3 = 7 )\n",
    "\n",
    "print(f\"2x + 3 = 7 x wynosi: {np.linalg.solve([[2]], [[7-3]])} \")\n",
    "\n",
    "# ( 5x - 4 = 11 )\n",
    "print(f\"5x - 4 = 11 x wynosi: {np.linalg.solve([[5]], [[11+4]])} \")\n",
    "\n",
    "# ( 3x + 2 = 2x + 5 )\n",
    "# ( 4x - 7 = 9 )\n",
    "# ( 6x + 3 = 2x + 15 )\n",
    "# ( 7x - 5 = 2x + 10 )\n",
    "# ( 8x + 4 = 4x + 20 )\n",
    "# ( 9x - 3 = 3x + 15 )\n",
    "# ( 10x + 2 = 5x + 12 )\n",
    "# ( 11x - 6 = 5x + 18 )"
   ]
  },
  {
   "cell_type": "code",
   "execution_count": 16,
   "metadata": {},
   "outputs": [
    {
     "data": {
      "text/plain": [
       "np.float64(2.718281828459045)"
      ]
     },
     "execution_count": 16,
     "metadata": {},
     "output_type": "execute_result"
    }
   ],
   "source": [
    "np.exp(1)\n"
   ]
  },
  {
   "cell_type": "code",
   "execution_count": 5,
   "metadata": {},
   "outputs": [
    {
     "name": "stdout",
     "output_type": "stream",
     "text": [
      "[0.18048581 0.63260229 0.64625056 0.62434992 0.05933651]\n"
     ]
    }
   ],
   "source": [
    "import numpy as np\n",
    "\n",
    "A = np.random.rand(5)\n",
    "print(A)"
   ]
  },
  {
   "cell_type": "code",
   "execution_count": 10,
   "metadata": {},
   "outputs": [
    {
     "name": "stdout",
     "output_type": "stream",
     "text": [
      "MaxValue 0.9751517962174442\n"
     ]
    }
   ],
   "source": [
    "A = np.random.rand(5)\n",
    "np.argmax(A)\n",
    "MaxValue = A[np.argmax(A)]\n",
    "MinValue = A[np.argmin(A)]\n",
    "ArgSort = np.argsort(A)\n",
    "\n",
    "print(\"MaxValue\", MaxValue)"
   ]
  },
  {
   "cell_type": "code",
   "execution_count": 13,
   "metadata": {},
   "outputs": [
    {
     "name": "stdout",
     "output_type": "stream",
     "text": [
      "MaxValue 0.9751517962174442\n",
      "MinValue 0.19711700425894363\n",
      "MeanValue 0.5414406816692539\n",
      "MedianValue 0.4330262501058566\n"
     ]
    }
   ],
   "source": [
    "print(\"MaxValue\", np.max(A))\n",
    "print(\"MinValue\", np.min(A))\n",
    "print(\"MeanValue\", np.mean(A))  # Srednia arytmetyczna\n",
    "print(\"MedianValue\", np.median(A))"
   ]
  }
 ],
 "metadata": {
  "kernelspec": {
   "display_name": ".venv",
   "language": "python",
   "name": "python3"
  },
  "language_info": {
   "codemirror_mode": {
    "name": "ipython",
    "version": 3
   },
   "file_extension": ".py",
   "mimetype": "text/x-python",
   "name": "python",
   "nbconvert_exporter": "python",
   "pygments_lexer": "ipython3",
   "version": "3.13.0"
  }
 },
 "nbformat": 4,
 "nbformat_minor": 2
}
