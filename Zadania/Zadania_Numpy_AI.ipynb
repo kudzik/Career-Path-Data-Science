{
 "cells": [
  {
   "cell_type": "markdown",
   "metadata": {},
   "source": [
    "\n",
    "\n",
    "\n",
    "\n",
    "\n",
    "\n",
    "\n",
    "\n",
    "Zadanie 5: Tablica wielowymiarowa z zerami\n",
    "Utwórz trójwymiarową tablicę NumPy o wymiarach 3x3x3, która będzie wypełniona zerami. Wyświetl tablicę oraz sprawdź, jaki jest jej rozmiar (ilość elementów)."
   ]
  },
  {
   "cell_type": "code",
   "execution_count": null,
   "metadata": {},
   "outputs": [],
   "source": [
    "import numpy as np"
   ]
  },
  {
   "cell_type": "code",
   "execution_count": null,
   "metadata": {},
   "outputs": [
    {
     "data": {
      "text/plain": [
       "dtype('int64')"
      ]
     },
     "execution_count": 3,
     "metadata": {},
     "output_type": "execute_result"
    }
   ],
   "source": [
    "# Zadanie 1: Tworzenie prostej tablicy\n",
    "# Utwórz jednowymiarową tablicę NumPy zawierającą liczby od 1 do 10. Wyświetl tablicę oraz jej typ danych.\n",
    "\n",
    "arr = np.array([1,2,3,4,5,6,7,8,9,10])\n",
    "arr\n",
    "arr.dtype\n"
   ]
  },
  {
   "cell_type": "code",
   "execution_count": null,
   "metadata": {},
   "outputs": [
    {
     "data": {
      "text/plain": [
       "8"
      ]
     },
     "execution_count": 4,
     "metadata": {},
     "output_type": "execute_result"
    }
   ],
   "source": [
    "# 2\n",
    "# Utwórz dwuwymiarową tablicę NumPy o wymiarach 4x4, \n",
    "# która będzie zawierała losowe liczby całkowite z zakresu od 0 do 100. Wyświetl tablicę oraz jej wymiary.\n",
    "\n",
    "import numpy as np\n",
    "\n",
    "# Tworzymy tablicę 4x4 z losowymi liczbami całkowitymi z przedziału [0, 100)\n",
    "tablica = np.random.randint(0, 101, size=(4, 4))\n",
    "\n",
    "# Wyświetlamy tablicę\n",
    "print(tablica)\n",
    "\n",
    "# Wyświetlamy wymiary tablicy\n",
    "print(\"Wymiary tablicy:\", tablica.shape)"
   ]
  },
  {
   "cell_type": "code",
   "execution_count": 8,
   "metadata": {},
   "outputs": [
    {
     "data": {
      "text/plain": [
       "array([ 0,  2,  4,  6,  8, 10, 12, 14, 16, 18, 20])"
      ]
     },
     "execution_count": 8,
     "metadata": {},
     "output_type": "execute_result"
    }
   ],
   "source": [
    "# Zadanie 3: Tablica z zakresu\n",
    "# Utwórz tablicę NumPy, która zawiera liczby od 0 do 20 z krokiem 2. Wyświetl tablicę oraz sprawdź jej długość.\n",
    "\n",
    "arr = np.arange(0,21,2)\n",
    "arr"
   ]
  },
  {
   "cell_type": "code",
   "execution_count": null,
   "metadata": {},
   "outputs": [],
   "source": [
    "# Zadanie 4: Tablica z wartościami liniowo rozłożonymi\n",
    "# Utwórz tablicę NumPy zawierającą 10 wartości liniowo rozłożonych pomiędzy 1 a 100. \n",
    "# Wyświetl tablicę oraz sprawdź, jakie są odstępy między wartościami.\n",
    "\n",
    "\n"
   ]
  }
 ],
 "metadata": {
  "kernelspec": {
   "display_name": ".venv",
   "language": "python",
   "name": "python3"
  },
  "language_info": {
   "codemirror_mode": {
    "name": "ipython",
    "version": 3
   },
   "file_extension": ".py",
   "mimetype": "text/x-python",
   "name": "python",
   "nbconvert_exporter": "python",
   "pygments_lexer": "ipython3",
   "version": "3.13.0"
  }
 },
 "nbformat": 4,
 "nbformat_minor": 2
}
