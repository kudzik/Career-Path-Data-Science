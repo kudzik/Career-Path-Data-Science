{
 "cells": [
  {
   "cell_type": "markdown",
   "metadata": {},
   "source": [
    "```python\n",
    "import numpy as np\n",
    "import matplotlib.pyplot as plt\n",
    "\n",
    "# Definiuj funkcję logarytmiczną o podstawie 2\n",
    "def log2(x):\n",
    "  return np.log2(x)\n",
    "\n",
    "# Generuj wartości x\n",
    "x = np.linspace(0.1, 10, 100)\n",
    "\n",
    "# Oblicz wartości y\n",
    "y = log2(x)\n",
    "\n",
    "# Stwórz wykres\n",
    "plt.plot(x, y)\n",
    "plt.xlabel('x')\n",
    "plt.ylabel('log₂(x)')\n",
    "plt.title('Wykres funkcji logarytmicznej o podstawie 2')\n",
    "plt.grid(True)\n",
    "plt.show()\n",
    "```\n",
    "```text?code_stdout&code_event_index=2\n",
    "```\n",
    "\n",
    "## Logarytmy\n",
    "\n",
    "### Definicja\n",
    "\n",
    "Logarytm to funkcja odwrotna do potęgowania. \n",
    "\n",
    "**Przykład:**\n",
    "\n",
    "Jeśli  $2^3 = 8$, to  $\\log_2 8 = 3$.\n",
    "\n",
    "Czytamy to: \"logarytm o podstawie 2 z 8 równa się 3\".\n",
    "\n",
    "Ogólnie, jeśli $a^x = b$, to $\\log_a b = x$.\n",
    "\n",
    "### Własności logarytmów\n",
    "\n",
    "*   $\\log_a a = 1$\n",
    "*   $\\log_a 1 = 0$\n",
    "*   $\\log_a (b \\cdot c) = \\log_a b + \\log_a c$\n",
    "*   $\\log_a (b / c) = \\log_a b - \\log_a c$\n",
    "*   $\\log_a b^c = c \\cdot \\log_a b$\n",
    "*   $\\log_a b = \\frac{\\log_c b}{\\log_c a}$ (zmiana podstawy logarytmu)\n",
    "\n",
    "### Rodzaje logarytmów\n",
    "\n",
    "*   **Logarytm naturalny (ln):**  o podstawie  $e$ (liczba Eulera,  $e \\approx 2.71828$).\n",
    "*   **Logarytm dziesiętny (log):**  o podstawie 10.\n",
    "\n",
    "### Zastosowania logarytmów\n",
    "\n",
    "Logarytmy mają szerokie zastosowanie w matematyce, fizyce, informatyce i innych dziedzinach.  Używa się ich m.in. do:\n",
    "\n",
    "*   Rozwiązywania równań wykładniczych\n",
    "*   Obliczania skali logarytmicznej (np. skala decybelowa)\n",
    "*   Analizy algorytmów\n",
    "*   Modelowania zjawisk naturalnych\n",
    "\n",
    "\n"
   ]
  },
  {
   "cell_type": "code",
   "execution_count": 2,
   "metadata": {},
   "outputs": [
    {
     "name": "stdout",
     "output_type": "stream",
     "text": [
      "2.302585092994046\n",
      "3.0\n",
      "-1.0\n"
     ]
    }
   ],
   "source": [
    "# Przykład w Pythonie z NumPy\n",
    "\n",
    "import numpy as np\n",
    "\n",
    "# Obliczanie logarytmu o podstawie 25 z 5\n",
    "base = 25\n",
    "value = 5\n",
    "\n",
    "result = np.log(value) / np.log(base)\n",
    "print(result)\n",
    "\n",
    "# Oblicz logarytm naturalny z 10\n",
    "x = np.log(10)\n",
    "print(x)  # 2.302585092994046\n",
    "\n",
    "# Oblicz logarytm o podstawie 2 z 8\n",
    "y = np.log2(8)\n",
    "print(y)  # 3.0\n",
    "\n",
    "\n",
    "result = np.log(4) / np.log(1 / 4)\n",
    "print(result)  #"
   ]
  }
 ],
 "metadata": {
  "kernelspec": {
   "display_name": ".venv",
   "language": "python",
   "name": "python3"
  },
  "language_info": {
   "codemirror_mode": {
    "name": "ipython",
    "version": 3
   },
   "file_extension": ".py",
   "mimetype": "text/x-python",
   "name": "python",
   "nbconvert_exporter": "python",
   "pygments_lexer": "ipython3",
   "version": "3.12.4"
  }
 },
 "nbformat": 4,
 "nbformat_minor": 2
}
