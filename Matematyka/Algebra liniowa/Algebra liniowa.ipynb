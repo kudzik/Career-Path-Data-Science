{
 "cells": [
  {
   "cell_type": "markdown",
   "metadata": {},
   "source": [
    "# Algebra liniowa\n",
    "\n",
    "## Wektory\n",
    "\n",
    "### Czym jest wektor?\n",
    "\n",
    "Wektor to obiekt matematyczny, który ma zarówno **wielkość** (długość), jak i **kierunek**. Można go przedstawić graficznie jako strzałkę.\n",
    "\n",
    "**Przykłady z życia codziennego:**\n",
    "\n",
    "* **Prędkość:**  Kiedy mówisz, że samochód porusza się z prędkością 60 km/h na północ, opisujesz wektor.  60 km/h to wielkość (długość strzałki), a północ to kierunek.\n",
    "* **Siła:** Kiedy pchasz szafę, używasz siły o określonej wielkości i kierunku. To również jest wektor!\n",
    "* **Przemieszczenie:**  Kiedy idziesz 100 metrów na wschód, twoje przemieszczenie jest wektorem o wielkości 100 metrów i kierunku wschodnim.\n",
    "\n",
    "### Jak zapisujemy wektory?\n",
    "\n",
    "Wektory możemy zapisywać na kilka sposobów:\n",
    "\n",
    "* **Współrzędne:** W układzie współrzędnych (np. na płaszczyźnie XY) wektor można zapisać jako parę liczb (x, y), gdzie x to współrzędna pozioma, a y to współrzędna pionowa. Np. wektor (3, 4)  zaczyna się w punkcie (0, 0) i kończy w punkcie (3, 4).\n",
    "* **Symbol strzałki:**  Wektor można oznaczyć literą ze strzałką nad nią, np.  $\\vec{v}$\n",
    "* **Macierz kolumnowa:** W algebrze liniowej często zapisujemy wektory jako macierze kolumnowe, np.  \n",
    "  $\\vec{v} = \\begin{bmatrix} 3 \\\\ 4 \\end{bmatrix}$\n",
    "\n",
    "### Działania na wektorach\n",
    "\n",
    "Na wektorach możemy wykonywać różne operacje:\n",
    "\n",
    "* **Dodawanie:**  Dodajemy wektory, dodając do siebie ich odpowiadające współrzędne. Np. (1, 2) + (3, 1) = (4, 3). Graficznie dodawanie wektorów polega na \"doklejeniu\"  końca jednego wektora do początku drugiego.\n",
    "* **Odejmowanie:** Odejmowanie wektorów działa analogicznie do dodawania, tylko odejmujemy odpowiadające współrzędne. Np. (4, 3) - (1, 2) = (3, 1).\n",
    "* **Mnożenie przez skalar:** Mnożymy wektor przez liczbę (skalar), mnożąc każdą współrzędną wektora przez ten skalar. Np. 2 * (1, 2) = (2, 4).  Graficznie mnożenie przez skalar zmienia długość wektora."
   ]
  },
  {
   "cell_type": "code",
   "execution_count": 1,
   "metadata": {},
   "outputs": [
    {
     "name": "stdout",
     "output_type": "stream",
     "text": [
      "Suma wektorów: [4 3]\n",
      "Różnica wektorów: [ 2 -1]\n",
      "Wektor v1 pomnożony przez 2: [2 4]\n"
     ]
    }
   ],
   "source": [
    "import numpy as np\n",
    "\n",
    "# Tworzenie wektorów\n",
    "v1 = np.array([1, 2])\n",
    "v2 = np.array([3, 1])\n",
    "\n",
    "# Dodawanie wektorów\n",
    "v3 = v1 + v2\n",
    "print(f\"Suma wektorów: {v3}\")\n",
    "\n",
    "# Odejmowanie wektorów\n",
    "v4 = v2 - v1\n",
    "print(f\"Różnica wektorów: {v4}\")\n",
    "\n",
    "# Mnożenie wektora przez skalar\n",
    "v5 = 2 * v1\n",
    "print(f\"Wektor v1 pomnożony przez 2: {v5}\")\n"
   ]
  },
  {
   "cell_type": "code",
   "execution_count": null,
   "metadata": {},
   "outputs": [],
   "source": [
    "### Zadania w Python i NumPy\n",
    "\n",
    "# 1. Utwórz wektor `a` o współrzędnych (2, 5) i wektor `b` o współrzędnych (-1, 3).\n",
    "# 2. Dodaj wektory `a` i `b`, wynik zapisz w zmiennej `c`.\n",
    "# 3. Odejmij wektor `b` od wektora `a`, wynik zapisz w zmiennej `d`.\n",
    "# 4. Pomnóż wektor `a` przez skalar 3, wynik zapisz w zmiennej `e`.\n",
    "# 5. **(Zadanie trudniejsze)** Napisz funkcję, która oblicza długość wektora (normę euklidesową).  Norma euklidesowa wektora (x, y) to  $\\sqrt{x^2 + y^2}$."
   ]
  },
  {
   "cell_type": "code",
   "execution_count": null,
   "metadata": {},
   "outputs": [],
   "source": [
    "### Odpowiedzi do zadań\n",
    "\n",
    "import numpy as np\n",
    "\n",
    "# 1. Tworzenie wektorów\n",
    "a = np.array([2, 5])\n",
    "b = np.array([-1, 3])\n",
    "\n",
    "# 2. Dodawanie wektorów\n",
    "c = a + b\n",
    "print(f\"Suma wektorów a i b: {c}\")\n",
    "\n",
    "# 3. Odejmowanie wektorów\n",
    "d = a - b\n",
    "print(f\"Różnica wektorów a i b: {d}\")\n",
    "\n",
    "# 4. Mnożenie wektora przez skalar\n",
    "e = 3 * a\n",
    "print(f\"Wektor a pomnożony przez 3: {e}\")\n",
    "\n",
    "\n",
    "# 5. Funkcja obliczająca długość wektora\n",
    "def dlugosc_wektora(wektor):\n",
    "    \"\"\"Oblicza długość wektora (normę euklidesową).\"\"\"\n",
    "    return np.sqrt(np.sum(wektor**2))\n",
    "\n",
    "\n",
    "print(f\"Długość wektora a: {dlugosc_wektora(a)}\")"
   ]
  },
  {
   "cell_type": "markdown",
   "metadata": {},
   "source": [
    "### Notatka do powtórki\n",
    "\n",
    "* **Wektor:** Obiekt matematyczny mający wielkość i kierunek.\n",
    "* **Zapisywanie wektorów:** Współrzędne (x, y), symbol strzałki ($\\vec{v}$), macierz kolumnowa.\n",
    "* **Działania na wektorach:** Dodawanie, odejmowanie, mnożenie przez skalar.\n",
    "* **NumPy:** Biblioteka Pythona do obliczeń numerycznych, ułatwiająca pracę z wektorami.\n",
    "\n",
    "### Podsumowanie\n",
    "\n",
    "Wektory to podstawowe narzędzie w algebrze liniowej i wielu dziedzinach nauki i techniki. Umiejętność wykonywania operacji na wektorach jest niezbędna do dalszej nauki."
   ]
  },
  {
   "cell_type": "markdown",
   "metadata": {},
   "source": [
    "## Norma wektora\n",
    "\n",
    "Norma wektora to funkcja, która przypisuje wektorowi nieujemną liczbę rzeczywistą. Intuicyjnie, norma wektora określa jego \"długość\" lub \"wielkość\".\n",
    "\n",
    "### Rodzaje norm\n",
    "\n",
    "Istnieje wiele różnych norm, ale niektóre z najpopularniejszych to:\n",
    "\n",
    "* **Norma euklidesowa (norma L2):**  Jest to najbardziej intuicyjna norma, która odpowiada \"zwykłej\" długości wektora. Obliczamy ją, pierwiastkując sumę kwadratów współrzędnych wektora. Dla wektora  $\\vec{v} = \\begin{bmatrix} x \\\\ y \\end{bmatrix}$ norma euklidesowa wynosi:\n",
    "\n",
    "  $||\\vec{v}||_2 = \\sqrt{x^2 + y^2}$\n",
    "\n",
    "* **Norma Manhattan (norma L1):**  Tę normę oblicza się, sumując wartości bezwzględne współrzędnych wektora. Dla wektora  $\\vec{v} = \\begin{bmatrix} x \\\\ y \\end{bmatrix}$ norma Manhattan wynosi:\n",
    "\n",
    "  $||\\vec{v}||_1 = |x| + |y|$\n",
    "\n",
    "* **Norma maksimum (norma L∞):** Ta norma jest równa największej wartości bezwzględnej spośród współrzędnych wektora. Dla wektora  $\\vec{v} = \\begin{bmatrix} x \\\\ y \\end{bmatrix}$ norma maksimum wynosi:\n",
    "\n",
    "  $||\\vec{v}||_∞ = \\max(|x|, |y|)$\n",
    "\n",
    "### Przykład z życia codziennego\n",
    "\n",
    "Wyobraź sobie, że chcesz dostać się z punktu A do punktu B w mieście. Możesz iść różnymi drogami:\n",
    "\n",
    "* **Najkrótsza droga \"na przełaj\"** to odpowiednik normy euklidesowej.\n",
    "* **Droga wzdłuż ulic, tylko na północ/południe i wschód/zachód** to odpowiednik normy Manhattan.\n",
    "* **Droga, na której najdłuższy odcinek jest jak najkrótszy** to odpowiednik normy maksimum.\n"
   ]
  },
  {
   "cell_type": "code",
   "execution_count": 1,
   "metadata": {},
   "outputs": [
    {
     "name": "stdout",
     "output_type": "stream",
     "text": [
      "Norma euklidesowa: 5.0\n",
      "Norma Manhattan: 7.0\n",
      "Norma maksimum: 4.0\n"
     ]
    }
   ],
   "source": [
    "import numpy as np\n",
    "\n",
    "v = np.array([3, 4])\n",
    "\n",
    "# Norma euklidesowa\n",
    "norma_euklidesowa = np.linalg.norm(v)  # lub np.linalg.norm(v, 2)\n",
    "print(f\"Norma euklidesowa: {norma_euklidesowa}\")\n",
    "\n",
    "# Norma Manhattan\n",
    "norma_manhattan = np.linalg.norm(v, 1)\n",
    "print(f\"Norma Manhattan: {norma_manhattan}\")\n",
    "\n",
    "# Norma maksimum\n",
    "norma_maksimum = np.linalg.norm(v, np.inf)\n",
    "print(f\"Norma maksimum: {norma_maksimum}\")"
   ]
  },
  {
   "cell_type": "code",
   "execution_count": null,
   "metadata": {},
   "outputs": [],
   "source": [
    "### Zadania w Python i NumPy\n",
    "\n",
    "# 1. Utwórz wektor `a` o współrzędnych (-2, 5).\n",
    "# 2. Oblicz normę euklidesową wektora `a`.\n",
    "# 3. Oblicz normę Manhattan wektora `a`.\n",
    "# 4. Oblicz normę maksimum wektora `a`.\n",
    "# 5. **(Zadanie trudniejsze)** Napisz funkcję, która oblicza normę p-tą wektora (dla dowolnego p >= 1). Norma p-ta wektora  $\\vec{v} = \\begin{bmatrix} x \\\\ y \\end{bmatrix}$  to  $(\\sqrt[p]{|x|^p + |y|^p})$."
   ]
  },
  {
   "cell_type": "code",
   "execution_count": 2,
   "metadata": {},
   "outputs": [
    {
     "name": "stdout",
     "output_type": "stream",
     "text": [
      "Norma euklidesowa: 5.385164807134504\n",
      "Norma Manhattan: 7.0\n",
      "Norma maksimum: 5.0\n",
      "Norma 3-cia wektora a: 5.104468722001463\n"
     ]
    }
   ],
   "source": [
    "### Odpowiedzi do zadań\n",
    "\n",
    "import numpy as np\n",
    "\n",
    "# 1. Tworzenie wektora\n",
    "a = np.array([-2, 5])\n",
    "\n",
    "# 2. Norma euklidesowa\n",
    "norma_euklidesowa = np.linalg.norm(a)\n",
    "print(f\"Norma euklidesowa: {norma_euklidesowa}\")\n",
    "\n",
    "# 3. Norma Manhattan\n",
    "norma_manhattan = np.linalg.norm(a, 1)\n",
    "print(f\"Norma Manhattan: {norma_manhattan}\")\n",
    "\n",
    "# 4. Norma maksimum\n",
    "norma_maksimum = np.linalg.norm(a, np.inf)\n",
    "print(f\"Norma maksimum: {norma_maksimum}\")\n",
    "\n",
    "\n",
    "# 5. Funkcja obliczająca normę p-tą\n",
    "def norma_p(wektor, p):\n",
    "    \"\"\"Oblicza normę p-tą wektora.\"\"\"\n",
    "    return np.power(np.sum(np.abs(wektor) ** p), 1 / p)\n",
    "\n",
    "\n",
    "print(f\"Norma 3-cia wektora a: {norma_p(a, 3)}\")\n"
   ]
  },
  {
   "cell_type": "markdown",
   "metadata": {},
   "source": [
    "## Norma w przestrzeni Rⁿ\n",
    "\n",
    "W przestrzeni Rⁿ, czyli przestrzeni o n wymiarach, wektory mają n współrzędnych.  Możemy je zapisać jako:\n",
    "\n",
    "  $\\vec{v} = \\begin{bmatrix} v_1 \\\\ v_2 \\\\ ... \\\\ v_n \\end{bmatrix}$\n",
    "\n",
    "### Rodzaje norm w Rⁿ\n",
    "\n",
    "Wzory na normy, które poznaliśmy wcześniej, można łatwo uogólnić na przestrzeń Rⁿ:\n",
    "\n",
    "* **Norma euklidesowa (norma L2):**\n",
    "\n",
    "  $||\\vec{v}||_2 = \\sqrt{v_1^2 + v_2^2 + ... + v_n^2}$\n",
    "\n",
    "* **Norma Manhattan (norma L1):**\n",
    "\n",
    "  $||\\vec{v}||_1 = |v_1| + |v_2| + ... + |v_n|$\n",
    "\n",
    "* **Norma maksimum (norma L∞):**\n",
    "\n",
    "  $||\\vec{v}||_∞ = \\max(|v_1|, |v_2|, ..., |v_n|)$\n",
    "\n",
    "* **Norma p-ta:**\n",
    "\n",
    "  $||\\vec{v}||_p = (\\sqrt[p]{|v_1|^p + |v_2|^p + ... + |v_n|^p})$"
   ]
  },
  {
   "cell_type": "markdown",
   "metadata": {},
   "source": [
    "## Odległość dwóch punktów na płaszczyźnie\n",
    "\n",
    "Odległość między dwoma punktami na płaszczyźnie możemy obliczyć, wykorzystując **twierdzenie Pitagorasa**. \n",
    "\n",
    "### Twierdzenie Pitagorasa\n",
    "\n",
    "W trójkącie prostokątnym kwadrat długości przeciwprostokątnej jest równy sumie kwadratów długości przyprostokątnych: $a^2 + b^2 = c^2$\n",
    "\n",
    "### Obliczanie odległości\n",
    "\n",
    "Aby obliczyć odległość między punktami  $A(x_1, y_1)$ i $B(x_2, y_2)$, wykonaj następujące kroki:\n",
    "\n",
    "1. **Utwórz wektor** łączący te punkty: $\\vec{AB} = (x_2 - x_1, y_2 - y_1)$.\n",
    "2. **Oblicz długość tego wektora**, czyli jego normę euklidesową:\n",
    "\n",
    "   $||\\vec{AB}|| = \\sqrt{(x_2 - x_1)^2 + (y_2 - y_1)^2}$\n",
    "\n",
    "Ta długość jest właśnie odległością między punktami A i B.\n",
    "\n",
    "### Przykład\n",
    "\n",
    "Obliczmy odległość między punktami A(-1, 2) i B(3, 4):\n",
    "\n",
    "1. Wektor $\\vec{AB} = (3 - (-1), 4 - 2) = (4, 2)$\n",
    "2. Odległość: $||\\vec{AB}|| = \\sqrt{4^2 + 2^2} = \\sqrt{20} = 2\\sqrt{5}$"
   ]
  },
  {
   "cell_type": "code",
   "execution_count": 3,
   "metadata": {},
   "outputs": [
    {
     "name": "stdout",
     "output_type": "stream",
     "text": [
      "Odległość między punktami [-1  2] i [3 4] wynosi: 4.47213595499958\n"
     ]
    }
   ],
   "source": [
    "import numpy as np\n",
    "\n",
    "# Definiujemy punkty\n",
    "A = np.array([-1, 2])\n",
    "B = np.array([3, 4])\n",
    "\n",
    "# Obliczamy odległość\n",
    "odleglosc = np.linalg.norm(B - A)\n",
    "\n",
    "# Wyświetlamy wynik\n",
    "print(f\"Odległość między punktami {A} i {B} wynosi: {odleglosc}\")"
   ]
  },
  {
   "cell_type": "code",
   "execution_count": null,
   "metadata": {},
   "outputs": [],
   "source": [
    "### Zadania w Python i NumPy\n",
    "\n",
    "# 1. Napisz funkcję `odleglosc(A, B)`, która oblicza odległość między dwoma punktami `A` i `B` na płaszczyźnie.\n",
    "# 2. Utwórz trzy punkty: `P1`=(1, 1), `P2`=(4, 5) i `P3`=(0, 3).\n",
    "# 3. Oblicz odległości między wszystkimi parami punktów (`P1` i `P2`, `P1` i `P3`, `P2` i `P3`).\n",
    "# 4. **(Zadanie trudniejsze)**  Napisz funkcję, która sprawdza, czy trzy punkty tworzą trójkąt prostokątny."
   ]
  },
  {
   "cell_type": "code",
   "execution_count": 4,
   "metadata": {},
   "outputs": [
    {
     "name": "stdout",
     "output_type": "stream",
     "text": [
      "Odległość między P1 i P2: 5.0\n",
      "Odległość między P1 i P3: 2.23606797749979\n",
      "Odległość między P2 i P3: 4.47213595499958\n",
      "Czy P1, P2, P3 tworzą trójkąt prostokątny? True\n"
     ]
    }
   ],
   "source": [
    "### Odpowiedzi do zadań\n",
    "\n",
    "import numpy as np\n",
    "\n",
    "\n",
    "# 1. Funkcja obliczająca odległość\n",
    "def odleglosc(A, B):\n",
    "    \"\"\"Oblicza odległość między dwoma punktami A i B.\"\"\"\n",
    "    return np.linalg.norm(B - A)\n",
    "\n",
    "\n",
    "# 2. Tworzenie punktów\n",
    "P1 = np.array([1, 1])\n",
    "P2 = np.array([4, 5])\n",
    "P3 = np.array([0, 3])\n",
    "\n",
    "# 3. Obliczanie odległości\n",
    "odl_P1_P2 = odleglosc(P1, P2)\n",
    "odl_P1_P3 = odleglosc(P1, P3)\n",
    "odl_P2_P3 = odleglosc(P2, P3)\n",
    "\n",
    "print(f\"Odległość między P1 i P2: {odl_P1_P2}\")\n",
    "print(f\"Odległość między P1 i P3: {odl_P1_P3}\")\n",
    "print(f\"Odległość między P2 i P3: {odl_P2_P3}\")\n",
    "\n",
    "\n",
    "# 4. Funkcja sprawdzająca trójkąt prostokątny\n",
    "def czy_trojkat_prostokatny(A, B, C):\n",
    "    \"\"\"Sprawdza, czy trzy punkty tworzą trójkąt prostokątny.\"\"\"\n",
    "    a = odleglosc(B, C)\n",
    "    b = odleglosc(A, C)\n",
    "    c = odleglosc(A, B)\n",
    "    boki = sorted([a, b, c])  # Sortujemy boki\n",
    "    return np.isclose(\n",
    "        boki[0] ** 2 + boki[1] ** 2, boki[2] ** 2\n",
    "    )  # Twierdzenie Pitagorasa\n",
    "\n",
    "\n",
    "print(\n",
    "    f\"Czy P1, P2, P3 tworzą trójkąt prostokątny? {czy_trojkat_prostokatny(P1, P2, P3)}\"\n",
    ")"
   ]
  },
  {
   "cell_type": "markdown",
   "metadata": {},
   "source": [
    "### Notatka do powtórki\n",
    "\n",
    "* **Odległość między punktami:** Obliczamy ją jako normę euklidesową wektora łączącego te punkty.\n",
    "* **Twierdzenie Pitagorasa:** Podstawowe narzędzie do obliczania odległości na płaszczyźnie.\n",
    "* **NumPy:** `np.linalg.norm(B - A)` oblicza odległość między punktami `A` i `B`.\n",
    "\n",
    "### Podsumowanie\n",
    "\n",
    "Umiejętność obliczania odległości między punktami jest kluczowa w geometrii analitycznej i ma wiele zastosowań w praktyce, np. w nawigacji, grafice komputerowej czy analizie danych."
   ]
  },
  {
   "cell_type": "markdown",
   "metadata": {},
   "source": [
    "## Macierz\n",
    "\n",
    "* Macierz to prostokątny układ liczb, symboli lub wyrażeń, ułożonych w wiersze i kolumny.\n",
    "* Elementy macierzy nazywamy wyrazami.\n",
    "* Rozmiar macierzy określa liczba wierszy i kolumn (np. macierz 3x2 ma 3 wiersze i 2 kolumny).\n"
   ]
  },
  {
   "cell_type": "markdown",
   "metadata": {},
   "source": [
    "## Mnożenie macierzy\n",
    "\n",
    "Mnożenie macierzy to operacja, która łączy dwie macierze, aby utworzyć trzecią.  **Ważne**: aby móc pomnożyć dwie macierze, `liczba kolumn pierwszej macierzy musi być równa liczbie wierszy drugiej macierzy`.\n",
    "\n",
    "### Jak mnożymy macierze?\n",
    "\n",
    "Wynik mnożenia macierzy  $A$ i $B$  oznaczamy jako  $AB$. Element w  $i$-tym wierszu i  $j$-tej kolumnie macierzy  $AB$  obliczamy, mnożąc elementy  $i$-tego wiersza macierzy  $A$  przez odpowiadające im elementy  $j$-tej kolumny macierzy  $B$  i sumując te iloczyny.\n",
    "\n",
    "**Przykład:**\n",
    "\n",
    "Załóżmy, że mamy macierze:\n",
    "\n",
    "$A = \\begin{bmatrix} 1 & 2 & 3 \\\\ 4 & 5 & 6 \\end{bmatrix}$  i  $B = \\begin{bmatrix} 7 & 8 \\\\ 9 & 10 \\\\ 11 & 12 \\end{bmatrix}$\n",
    "\n",
    "Aby obliczyć element w pierwszym wierszu i pierwszej kolumnie macierzy  $AB$, mnożymy elementy pierwszego wiersza macierzy  $A$  przez elementy pierwszej kolumny macierzy  $B$  i sumujemy:\n",
    "\n",
    "$(1 * 7) + (2 * 9) + (3 * 11) = 7 + 18 + 33 = 58$\n",
    "\n",
    "### Własności mnożenia macierzy\n",
    "\n",
    "* **Mnożenie macierzy nie jest przemienne:**  Zazwyczaj  $AB ≠ BA$.  (Zobacz przykład w kodzie).\n",
    "* **Mnożenie macierzy jest łączne:**  $(AB)C = A(BC)$\n",
    "* **Mnożenie macierzy jest rozdzielne względem dodawania:**  $A(B + C) = AB + AC$"
   ]
  },
  {
   "cell_type": "markdown",
   "metadata": {},
   "source": [
    "* Jeżeli macierz A ma wymiar m x n (m wierszy i n kolumn), a macierz B ma wymiar n x p (n wierszy i p kolumn), to ich iloczyn AB będzie miał wymiar m x p (m wierszy i p kolumn)."
   ]
  },
  {
   "cell_type": "code",
   "execution_count": 7,
   "metadata": {},
   "outputs": [
    {
     "name": "stdout",
     "output_type": "stream",
     "text": [
      "A Shape (2, 3)\n",
      "B Shape (3, 2)\n",
      "Macierz AB:\n",
      " [[ 58  64]\n",
      " [139 154]]\n",
      "\n",
      "Macierz BA:\n",
      " [[ 39  54  69]\n",
      " [ 49  68  87]\n",
      " [ 59  82 105]]\n"
     ]
    }
   ],
   "source": [
    "import numpy as np\n",
    "\n",
    "# Definiujemy macierze\n",
    "A = np.array([[1, 2, 3], [4, 5, 6]])\n",
    "B = np.array([[7, 8], [9, 10], [11, 12]])\n",
    "\n",
    "# Mnożenie macierzy\n",
    "AB = np.dot(A, B)  # lub A @ B\n",
    "print(f\"Macierz AB:\\n {AB}\")\n",
    "\n",
    "BA = np.dot(B, A)\n",
    "print(f\"\\nMacierz BA:\\n {BA}\")"
   ]
  },
  {
   "cell_type": "code",
   "execution_count": null,
   "metadata": {},
   "outputs": [],
   "source": [
    "### Zadania w Python i NumPy\n",
    "\n",
    "# 1. Utwórz macierz  $C = \\begin{bmatrix} 2 & -1 \\\\ 0 & 3 \\end{bmatrix}$  i macierz  $D = \\begin{bmatrix} 1 & 4 \\\\ -2 & 1 \\end{bmatrix}$.\n",
    "# 2. Oblicz iloczyn macierzy  $CD$  i  $DC$.\n",
    "# 3. Sprawdź, czy mnożenie macierzy  $C$ i $D$  jest przemienne.\n",
    "# 4. **(Zadanie trudniejsze)** Napisz funkcję, która oblicza  $n$-tą potęgę macierzy kwadratowej (czyli macierz pomnożoną przez siebie  $n$  razy)."
   ]
  },
  {
   "cell_type": "code",
   "execution_count": null,
   "metadata": {},
   "outputs": [],
   "source": [
    "### Odpowiedzi do zadań\n",
    "\n",
    "import numpy as np\n",
    "\n",
    "# 1. Tworzenie macierzy\n",
    "C = np.array([[2, -1], [0, 3]])\n",
    "D = np.array([[1, 4], [-2, 1]])\n",
    "\n",
    "# 2. Obliczanie iloczynów\n",
    "CD = np.dot(C, D)\n",
    "DC = np.dot(D, C)\n",
    "\n",
    "print(f\"Macierz CD:\\n {CD}\")\n",
    "print(f\"\\nMacierz DC:\\n {DC}\")\n",
    "\n",
    "# 3. Sprawdzanie przemienności\n",
    "czy_przemienne = np.array_equal(CD, DC)\n",
    "print(f\"\\nCzy mnożenie C i D jest przemienne? {czy_przemienne}\")\n",
    "\n",
    "\n",
    "# 4. Funkcja obliczająca n-tą potęgę macierzy\n",
    "def potega_macierzy(macierz, n):\n",
    "    \"\"\"Oblicza n-tą potęgę macierzy kwadratowej.\"\"\"\n",
    "    wynik = macierz.copy()\n",
    "    for _ in range(n - 1):\n",
    "        wynik = np.dot(wynik, macierz)\n",
    "    return wynik\n",
    "\n",
    "\n",
    "E = np.array([[1, 2], [3, 4]])\n",
    "print(f\"\\nMacierz E do potęgi 3:\\n {potega_macierzy(E, 3)}\")"
   ]
  },
  {
   "cell_type": "markdown",
   "metadata": {},
   "source": [
    "### Notatka do powtórki\n",
    "\n",
    "* **Mnożenie macierzy:**  Operacja łącząca dwie macierze.\n",
    "* **Warunek mnożenia:** Liczba kolumn pierwszej macierzy musi być równa liczbie wierszy drugiej.\n",
    "* **Własności:** Nieprzemienne, łączne, rozdzielne względem dodawania.\n",
    "* **NumPy:** `np.dot(A, B)` lub `A @ B` oblicza iloczyn macierzy `A` i `B`.\n",
    "\n",
    "### Podsumowanie\n",
    "\n",
    "Mnożenie macierzy to ważna operacja w algebrze liniowej, która ma szerokie zastosowanie w wielu dziedzinach, takich jak grafika komputerowa, uczenie maszynowe czy fizyka."
   ]
  }
 ],
 "metadata": {
  "kernelspec": {
   "display_name": ".venv",
   "language": "python",
   "name": "python3"
  },
  "language_info": {
   "codemirror_mode": {
    "name": "ipython",
    "version": 3
   },
   "file_extension": ".py",
   "mimetype": "text/x-python",
   "name": "python",
   "nbconvert_exporter": "python",
   "pygments_lexer": "ipython3",
   "version": "3.12.4"
  }
 },
 "nbformat": 4,
 "nbformat_minor": 2
}
