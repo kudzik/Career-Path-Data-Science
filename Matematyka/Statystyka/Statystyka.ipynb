{
 "cells": [
  {
   "cell_type": "markdown",
   "metadata": {},
   "source": [
    "# Statystyka\n",
    "\n",
    "## Funkcje Statystyczne w NumPy\n",
    "\n",
    "### Najczęściej Używane Funkcje\n",
    "\n",
    "NumPy oferuje wiele funkcji statystycznych, które ułatwiają analizę danych. Oto niektóre z nich:\n",
    "\n",
    "* `np.mean()`: Oblicza średnią arytmetyczną.\n",
    "* `np.median()`: Oblicza medianę.\n",
    "* `np.std()`: Oblicza odchylenie standardowe.\n",
    "* `np.var()`: Oblicza wariancję.\n",
    "* `np.min()`: Znajduje wartość minimalną.\n",
    "* `np.max()`: Znajduje wartość maksymalną.\n",
    "* `np.sum()`: Sumuje elementy.\n",
    "* `np.percentile()`: Oblicza percentyle.\n",
    "* `np.histogram()`: Tworzy histogram.\n",
    "* `np.corrcoef()`: Oblicza współczynnik korelacji."
   ]
  },
  {
   "cell_type": "code",
   "execution_count": null,
   "metadata": {},
   "outputs": [],
   "source": [
    "import numpy as np\n",
    "\n",
    "# Wygeneruj przykładowy zestaw danych\n",
    "np.random.seed(0)\n",
    "dane = np.random.randint(0, 100, size=20)\n",
    "\n",
    "# Oblicz podstawowe statystyki opisowe\n",
    "srednia = np.mean(dane)\n",
    "mediana = np.median(dane)\n",
    "odchylenie_std = np.std(dane)\n",
    "wariancja = np.var(dane)\n",
    "\n",
    "# Wyświetl wyniki\n",
    "print(\"Średnia:\", srednia)\n",
    "print(\"Mediana:\", mediana)\n",
    "print(\"Odchylenie standardowe:\", odchylenie_std)\n",
    "print(\"Wariancja:\", wariancja)"
   ]
  },
  {
   "cell_type": "markdown",
   "metadata": {},
   "source": [
    "### Ściąga\n",
    "\n",
    "| Funkcja        | Opis                                      |\n",
    "|----------------|-------------------------------------------|\n",
    "| `np.mean()`     | Średnia arytmetyczna                      |\n",
    "| `np.median()`   | Mediana                                    |\n",
    "| `np.std()`      | Odchylenie standardowe                    |\n",
    "| `np.var()`      | Wariancja                                  |\n",
    "| `np.min()`      | Wartość minimalna                          |\n",
    "| `np.max()`      | Wartość maksymalna                          |\n",
    "| `np.sum()`      | Suma elementów                            |\n",
    "| `np.percentile()` | Percentyle                               |\n",
    "| `np.histogram()` | Histogram                                 |\n",
    "| `np.corrcoef()` | Współczynnik korelacji                 |"
   ]
  },
  {
   "cell_type": "code",
   "execution_count": null,
   "metadata": {},
   "outputs": [],
   "source": [
    "### Zadania\n",
    "\n",
    "# 1. Wygeneruj losowy zestaw danych o rozmiarze 30 z rozkładu normalnego.\n",
    "# 2. Oblicz dla niego średnią, medianę, odchylenie standardowe i wariancję.\n",
    "# 3. Wyświetl histogram dla tego zestawu danych.\n",
    "# 4. **(Zadanie trudniejsze)** Napisz funkcję w Pythonie, która oblicza kwartyle dla danego zestawu danych."
   ]
  },
  {
   "cell_type": "code",
   "execution_count": 1,
   "metadata": {},
   "outputs": [
    {
     "name": "stdout",
     "output_type": "stream",
     "text": [
      "Średnia: -0.22219446067928988\n",
      "Mediana: -0.14661499796428895\n",
      "Odchylenie standardowe: 1.0563889803499638\n",
      "Wariancja: 1.1159576778048363 \n",
      "\n"
     ]
    },
    {
     "data": {
      "image/png": "[encoded data removed]",
      "text/plain": [
       "<Figure size 640x480 with 1 Axes>"
      ]
     },
     "metadata": {},
     "output_type": "display_data"
    },
    {
     "name": "stdout",
     "output_type": "stream",
     "text": [
      "Kwartyle: (np.float64(-0.5714878978399165), np.float64(-0.14661499796428895), np.float64(0.4160673023639404))\n"
     ]
    }
   ],
   "source": [
    "### Odpowiedzi do Zadań\n",
    "\n",
    "import numpy as np\n",
    "import matplotlib.pyplot as plt\n",
    "\n",
    "# Zadanie 1\n",
    "dane = np.random.randn(30)\n",
    "\n",
    "# Zadanie 2\n",
    "srednia = np.mean(dane)\n",
    "mediana = np.median(dane)\n",
    "odchylenie_std = np.std(dane)\n",
    "wariancja = np.var(dane)\n",
    "print(\"Średnia:\", srednia)\n",
    "print(\"Mediana:\", mediana)\n",
    "print(\"Odchylenie standardowe:\", odchylenie_std)\n",
    "print(\"Wariancja:\", wariancja, \"\\n\")\n",
    "\n",
    "# Zadanie 3\n",
    "plt.hist(dane)\n",
    "plt.title(\"Histogram\")\n",
    "plt.xlabel(\"Wartość\")\n",
    "plt.ylabel(\"Częstotliwość\")\n",
    "plt.show()\n",
    "\n",
    "\n",
    "# Zadanie 4 (trudniejsze)\n",
    "def kwartyle(dane):\n",
    "    \"\"\"Oblicza kwartyle dla danego zestawu danych.\"\"\"\n",
    "    q1 = np.percentile(dane, 25)\n",
    "    q2 = np.percentile(dane, 50)\n",
    "    q3 = np.percentile(dane, 75)\n",
    "    return q1, q2, q3\n",
    "\n",
    "\n",
    "print(\"Kwartyle:\", kwartyle(dane))\n"
   ]
  },
  {
   "cell_type": "markdown",
   "metadata": {},
   "source": [
    "## Parametr `axis` w metodach\n",
    "\n",
    "W przypadku macierzy dwuwymiarowej:\n",
    "\n",
    "* `axis=0` oznacza operację wzdłuż kolumn (pionowo).\n",
    "* `axis=1` oznacza operację wzdłuż wierszy (poziomo).\n",
    "\n",
    "Brak parametru `axis` oznacza operację na wszystkich elementach macierzy.\n",
    "\n"
   ]
  },
  {
   "cell_type": "code",
   "execution_count": 2,
   "metadata": {},
   "outputs": [
    {
     "name": "stdout",
     "output_type": "stream",
     "text": [
      "Suma wzdłuż kolumn: [15 18 21 24]\n",
      "Suma wzdłuż wierszy: [10 26 42]\n",
      "Suma wszystkich elementów: 78\n"
     ]
    }
   ],
   "source": [
    "import numpy as np\n",
    "\n",
    "macierz = np.array([[1, 2, 3, 4], [5, 6, 7, 8], [9, 10, 11, 12]])\n",
    "\n",
    "\n",
    "print(\"Suma wzdłuż kolumn:\", np.sum(macierz, axis=0))  # [15 18 21 24]\n",
    "print(\"Suma wzdłuż wierszy:\", np.sum(macierz, axis=1))  # [10 26 42]\n",
    "print(\"Suma wszystkich elementów:\", np.sum(macierz))  # 78"
   ]
  }
 ],
 "metadata": {
  "kernelspec": {
   "display_name": ".venv",
   "language": "python",
   "name": "python3"
  },
  "language_info": {
   "codemirror_mode": {
    "name": "ipython",
    "version": 3
   },
   "file_extension": ".py",
   "mimetype": "text/x-python",
   "name": "python",
   "nbconvert_exporter": "python",
   "pygments_lexer": "ipython3",
   "version": "3.12.4"
  }
 },
 "nbformat": 4,
 "nbformat_minor": 2
}
