{
 "cells": [
  {
   "cell_type": "markdown",
   "metadata": {},
   "source": [
    "# Korelacja\n",
    "\n",
    "Korelacja to statystyczna miara, która opisuje związek między dwoma lub więcej zmiennymi.\n",
    "\n",
    "**Wyobraź sobie:**\n",
    "\n",
    "* **Wzrost sprzedaży lodów i temperatury powietrza:**  W upalne dni ludzie chętniej kupują lody.  Mamy tu do czynienia z **korelacją dodatnią** –  im wyższa temperatura, tym wyższa sprzedaż.\n",
    "* **Liczba wypadków samochodowych i ilość opadów śniegu:**  Podczas śnieżycy  kierowcy jeżdżą ostrożniej i rzadziej dochodzi do wypadków. To przykład **korelacji ujemnej** – im więcej śniegu, tym mniej wypadków.\n",
    "* **Wzrost ceny chleba i liczba bocianów:**  Te dwie zmienne prawdopodobnie nie mają na siebie wpływu. Mówimy wtedy o **braku korelacji**.\n",
    "\n",
    "**Współczynnik korelacji** to liczba z przedziału od -1 do 1, która określa siłę i kierunek korelacji:\n",
    "\n",
    "* **1:**  Doskonała korelacja dodatnia (zmienne rosną lub maleją idealnie razem).\n",
    "* **0:**  Brak korelacji (zmienne nie są ze sobą powiązane).\n",
    "* **-1:** Doskonała korelacja ujemna (jedna zmienna rośnie, a druga maleje idealnie odwrotnie).\n",
    "\n",
    "**Ważne:**\n",
    "\n",
    "Korelacja nie implikuje przyczynowości! To, że dwie zmienne są skorelowane, nie oznacza, że jedna jest przyczyną drugiej.  Może istnieć trzecia zmienna, która wpływa na obie."
   ]
  },
  {
   "cell_type": "code",
   "execution_count": 1,
   "metadata": {},
   "outputs": [
    {
     "name": "stdout",
     "output_type": "stream",
     "text": [
      "Korelacja między temperaturą a sprzedażą lodów: 1.0\n"
     ]
    }
   ],
   "source": [
    "import pandas as pd\n",
    "\n",
    "# Przykładowe dane\n",
    "dane = {\n",
    "    \"temperatura\": [20, 25, 30, 22, 28],\n",
    "    \"sprzedaż_lodów\": [100, 150, 200, 120, 180],\n",
    "}\n",
    "df = pd.DataFrame(dane)\n",
    "\n",
    "# Obliczenie korelacji\n",
    "korelacja = df[\"temperatura\"].corr(df[\"sprzedaż_lodów\"])\n",
    "print(f\"Korelacja między temperaturą a sprzedażą lodów: {korelacja}\")"
   ]
  }
 ],
 "metadata": {
  "kernelspec": {
   "display_name": ".venv",
   "language": "python",
   "name": "python3"
  },
  "language_info": {
   "codemirror_mode": {
    "name": "ipython",
    "version": 3
   },
   "file_extension": ".py",
   "mimetype": "text/x-python",
   "name": "python",
   "nbconvert_exporter": "python",
   "pygments_lexer": "ipython3",
   "version": "3.12.4"
  }
 },
 "nbformat": 4,
 "nbformat_minor": 2
}
